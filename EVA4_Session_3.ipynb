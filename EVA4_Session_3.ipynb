{
  "cells": [
    {
      "cell_type": "code",
      "execution_count": 1,
      "metadata": {
        "id": "0m2JWFliFfKT"
      },
      "outputs": [],
      "source": [
        "from __future__ import print_function\n",
        "import torch\n",
        "import torch.nn as nn\n",
        "import torch.nn.functional as F\n",
        "import torch.optim as optim\n",
        "from torchvision import datasets, transforms"
      ]
    },
    {
      "cell_type": "code",
      "execution_count": 14,
      "metadata": {
        "id": "7KTbXyyXhK3V"
      },
      "outputs": [],
      "source": [
        "class Net(nn.Module):\n",
        "    def __init__(self):\n",
        "        super(Net, self).__init__()\n",
        "        self.conv1 = nn.Conv2d(1, 16, 3, padding=1)      #input=1*28*28, Output=16*28*28\n",
        "        self.BN1   = nn.BatchNorm2d(16)                  #input=16*28*28, Output=16*28*28\n",
        "        self.conv2 = nn.Conv2d(16, 32, 3, padding=1)     #input=16*28*28, Output=32*28*28\n",
        "        self.drop1 = nn.Dropout(0.25)                    #input=32*28*28, Output=32*28*28\n",
        "        self.pool1 = nn.MaxPool2d(2, 2)                  #input=32*28*28, Output=32*14*14\n",
        "        \n",
        "        self.conv3 = nn.Conv2d(32, 16, 3, padding=1)     #input=32*14*14, Output=16*14*14\n",
        "        self.BN2   = nn.BatchNorm2d(16)                  #input=16*14*14, Output=16*14*14\n",
        "        self.conv4 = nn.Conv2d(16, 32, 3, padding=1)     #input=16*14*14, Output=32*14*14\n",
        "        self.drop2 = nn.Dropout(0.25)                    #input=32*14*14, Output=32*14*14\n",
        "        self.pool2 = nn.MaxPool2d(2, 2)                  #input=32*14*14, Output=32*7*7\n",
        "\n",
        "        self.conv5 = nn.Conv2d(32, 12, 3, padding=1)     #input=32*7*7, Output=14*7*7\n",
        "        self.BN3   = nn.BatchNorm2d(12)                  #input=14*7*7, Output=14*7*7\n",
        "        self.drop3 = nn.Dropout(0.25)                    #input=14*7*7, Output=14*7*7\n",
        "        self.pool3 = nn.MaxPool2d(2, 2)                  #input=14*7*7, Output=14*3*3\n",
        "\n",
        "        self.conv6 = nn.Conv2d(12, 10, 3)                #input=14*3*3, Output=10*1*1\n",
        "        self.gap1  = nn.AdaptiveAvgPool2d((1,1))         #input=10*1*1, Output=10*1*1\n",
        "        self.fc1    = nn.Linear(10*1*1, out_features=10) #input=10*1*1, Output=10\n",
        "             \n",
        "\n",
        "    def forward(self, x):\n",
        "        \n",
        "        x = self.pool1(self.drop1(F.relu(self.conv2(F.relu(self.BN1(self.conv1(x)))))))\n",
        "        x = self.pool2(self.drop2(F.relu(self.conv4(F.relu(self.BN2(self.conv3(x)))))))\n",
        "        x = self.pool3(self.drop3(F.relu(self.BN3(self.conv5(x)))))\n",
        "        x = F.relu(self.conv6(x))      \n",
        "\n",
        "        x = self.gap1(x)\n",
        "        x = x.view(-1, 10)\n",
        "        x = self.fc1(x)\n",
        "        return F.log_softmax(x)"
      ]
    },
    {
      "cell_type": "code",
      "execution_count": 3,
      "metadata": {
        "colab": {
          "base_uri": "https://localhost:8080/"
        },
        "id": "xdydjYTZFyi3",
        "outputId": "49612616-8b33-46ed-f42a-48c3897f348b"
      },
      "outputs": [
        {
          "output_type": "stream",
          "name": "stdout",
          "text": [
            "Looking in indexes: https://pypi.org/simple, https://us-python.pkg.dev/colab-wheels/public/simple/\n",
            "Requirement already satisfied: torchsummary in /usr/local/lib/python3.8/dist-packages (1.5.1)\n"
          ]
        }
      ],
      "source": [
        "!pip install torchsummary\n",
        "from torchsummary import summary"
      ]
    },
    {
      "cell_type": "code",
      "execution_count": 15,
      "metadata": {
        "colab": {
          "base_uri": "https://localhost:8080/"
        },
        "id": "YJHH2HnvlDyT",
        "outputId": "8e4ceda3-8bbc-4b5d-e05b-1858a0d85c8e"
      },
      "outputs": [
        {
          "output_type": "stream",
          "name": "stdout",
          "text": [
            "----------------------------------------------------------------\n",
            "        Layer (type)               Output Shape         Param #\n",
            "================================================================\n",
            "            Conv2d-1           [-1, 16, 28, 28]             160\n",
            "       BatchNorm2d-2           [-1, 16, 28, 28]              32\n",
            "            Conv2d-3           [-1, 32, 28, 28]           4,640\n",
            "           Dropout-4           [-1, 32, 28, 28]               0\n",
            "         MaxPool2d-5           [-1, 32, 14, 14]               0\n",
            "            Conv2d-6           [-1, 16, 14, 14]           4,624\n",
            "       BatchNorm2d-7           [-1, 16, 14, 14]              32\n",
            "            Conv2d-8           [-1, 32, 14, 14]           4,640\n",
            "           Dropout-9           [-1, 32, 14, 14]               0\n",
            "        MaxPool2d-10             [-1, 32, 7, 7]               0\n",
            "           Conv2d-11             [-1, 12, 7, 7]           3,468\n",
            "      BatchNorm2d-12             [-1, 12, 7, 7]              24\n",
            "          Dropout-13             [-1, 12, 7, 7]               0\n",
            "        MaxPool2d-14             [-1, 12, 3, 3]               0\n",
            "           Conv2d-15             [-1, 10, 1, 1]           1,090\n",
            "AdaptiveAvgPool2d-16             [-1, 10, 1, 1]               0\n",
            "           Linear-17                   [-1, 10]             110\n",
            "================================================================\n",
            "Total params: 18,820\n",
            "Trainable params: 18,820\n",
            "Non-trainable params: 0\n",
            "----------------------------------------------------------------\n",
            "Input size (MB): 0.00\n",
            "Forward/backward pass size (MB): 0.79\n",
            "Params size (MB): 0.07\n",
            "Estimated Total Size (MB): 0.87\n",
            "----------------------------------------------------------------\n"
          ]
        },
        {
          "output_type": "stream",
          "name": "stderr",
          "text": [
            "<ipython-input-14-db30d2dbf7e0>:36: UserWarning: Implicit dimension choice for log_softmax has been deprecated. Change the call to include dim=X as an argument.\n",
            "  return F.log_softmax(x)\n"
          ]
        }
      ],
      "source": [
        "use_cuda = torch.cuda.is_available()\n",
        "device = torch.device(\"cuda\" if use_cuda else \"cpu\")\n",
        "model = Net().to(device)\n",
        "summary(model, input_size=(1, 28, 28))"
      ]
    },
    {
      "cell_type": "code",
      "execution_count": 16,
      "metadata": {
        "id": "DqTWLaM5GHgH"
      },
      "outputs": [],
      "source": [
        "\n",
        "\n",
        "torch.manual_seed(1)\n",
        "batch_size = 128\n",
        "\n",
        "kwargs = {'num_workers': 1, 'pin_memory': True} if use_cuda else {}\n",
        "train_loader = torch.utils.data.DataLoader(\n",
        "    datasets.MNIST('../data', train=True, download=True,\n",
        "                    transform=transforms.Compose([\n",
        "                        transforms.ToTensor(),\n",
        "                        transforms.Normalize((0.1307,), (0.3081,))\n",
        "                    ])),\n",
        "    batch_size=batch_size, shuffle=True, **kwargs)\n",
        "test_loader = torch.utils.data.DataLoader(\n",
        "    datasets.MNIST('../data', train=False, transform=transforms.Compose([\n",
        "                        transforms.ToTensor(),\n",
        "                        transforms.Normalize((0.1307,), (0.3081,))\n",
        "                    ])),\n",
        "    batch_size=batch_size, shuffle=True, **kwargs)\n"
      ]
    },
    {
      "cell_type": "code",
      "execution_count": 17,
      "metadata": {
        "id": "8fDefDhaFlwH"
      },
      "outputs": [],
      "source": [
        "from tqdm import tqdm\n",
        "def train(model, device, train_loader, optimizer, epoch):\n",
        "    model.train()\n",
        "    pbar = tqdm(train_loader)\n",
        "    for batch_idx, (data, target) in enumerate(pbar):\n",
        "        data, target = data.to(device), target.to(device)\n",
        "        optimizer.zero_grad()\n",
        "        output = model(data)\n",
        "        loss = F.nll_loss(output, target)\n",
        "        loss.backward()\n",
        "        optimizer.step()\n",
        "        pbar.set_description(desc= f'loss={loss.item()} batch_id={batch_idx}')\n",
        "\n",
        "\n",
        "def test(model, device, test_loader):\n",
        "    model.eval()\n",
        "    test_loss = 0\n",
        "    correct = 0\n",
        "    with torch.no_grad():\n",
        "        for data, target in test_loader:\n",
        "            data, target = data.to(device), target.to(device)\n",
        "            output = model(data)\n",
        "            test_loss += F.nll_loss(output, target, reduction='sum').item()  # sum up batch loss\n",
        "            pred = output.argmax(dim=1, keepdim=True)  # get the index of the max log-probability\n",
        "            correct += pred.eq(target.view_as(pred)).sum().item()\n",
        "\n",
        "    test_loss /= len(test_loader.dataset)\n",
        "\n",
        "    print('\\nTest set: epoch: {}, Average loss: {:.4f}, Accuracy: {}/{} ({:.1f}%)\\n'.format(\n",
        "        epoch, test_loss, correct, len(test_loader.dataset),\n",
        "        100. * correct / len(test_loader.dataset)))"
      ]
    },
    {
      "cell_type": "code",
      "source": [
        "model = Net().to(device)\n",
        "optimizer = optim.SGD(model.parameters(), lr=0.01, momentum=0.9)\n",
        "\n",
        "for epoch in range(1, 14):\n",
        "    train(model, device, train_loader, optimizer, epoch)\n",
        "    test(model, device, test_loader)"
      ],
      "metadata": {
        "colab": {
          "base_uri": "https://localhost:8080/"
        },
        "id": "SgX4T9kobykI",
        "outputId": "6d02cedb-796b-4f2f-cdcc-6090935c9b4d"
      },
      "execution_count": 19,
      "outputs": [
        {
          "output_type": "stream",
          "name": "stderr",
          "text": [
            "\r  0%|          | 0/469 [00:00<?, ?it/s]<ipython-input-14-db30d2dbf7e0>:36: UserWarning: Implicit dimension choice for log_softmax has been deprecated. Change the call to include dim=X as an argument.\n",
            "  return F.log_softmax(x)\n",
            "loss=0.09743601828813553 batch_id=468: 100%|██████████| 469/469 [01:40<00:00,  4.68it/s]\n"
          ]
        },
        {
          "output_type": "stream",
          "name": "stdout",
          "text": [
            "\n",
            "Test set: epoch: 1, Average loss: 0.1345, Accuracy: 9685/10000 (96.8%)\n",
            "\n"
          ]
        },
        {
          "output_type": "stream",
          "name": "stderr",
          "text": [
            "loss=0.13191278278827667 batch_id=468: 100%|██████████| 469/469 [01:39<00:00,  4.73it/s]\n"
          ]
        },
        {
          "output_type": "stream",
          "name": "stdout",
          "text": [
            "\n",
            "Test set: epoch: 2, Average loss: 0.0692, Accuracy: 9876/10000 (98.8%)\n",
            "\n"
          ]
        },
        {
          "output_type": "stream",
          "name": "stderr",
          "text": [
            "loss=0.020905466750264168 batch_id=468: 100%|██████████| 469/469 [01:39<00:00,  4.69it/s]\n"
          ]
        },
        {
          "output_type": "stream",
          "name": "stdout",
          "text": [
            "\n",
            "Test set: epoch: 3, Average loss: 0.0569, Accuracy: 9888/10000 (98.9%)\n",
            "\n"
          ]
        },
        {
          "output_type": "stream",
          "name": "stderr",
          "text": [
            "loss=0.04247810319066048 batch_id=468: 100%|██████████| 469/469 [01:40<00:00,  4.69it/s]\n"
          ]
        },
        {
          "output_type": "stream",
          "name": "stdout",
          "text": [
            "\n",
            "Test set: epoch: 4, Average loss: 0.0673, Accuracy: 9897/10000 (99.0%)\n",
            "\n"
          ]
        },
        {
          "output_type": "stream",
          "name": "stderr",
          "text": [
            "loss=0.06136854365468025 batch_id=468: 100%|██████████| 469/469 [01:38<00:00,  4.75it/s]\n"
          ]
        },
        {
          "output_type": "stream",
          "name": "stdout",
          "text": [
            "\n",
            "Test set: epoch: 5, Average loss: 0.0487, Accuracy: 9902/10000 (99.0%)\n",
            "\n"
          ]
        },
        {
          "output_type": "stream",
          "name": "stderr",
          "text": [
            "loss=0.029186338186264038 batch_id=468: 100%|██████████| 469/469 [01:39<00:00,  4.73it/s]\n"
          ]
        },
        {
          "output_type": "stream",
          "name": "stdout",
          "text": [
            "\n",
            "Test set: epoch: 6, Average loss: 0.0522, Accuracy: 9907/10000 (99.1%)\n",
            "\n"
          ]
        },
        {
          "output_type": "stream",
          "name": "stderr",
          "text": [
            "loss=0.12182768434286118 batch_id=468: 100%|██████████| 469/469 [01:38<00:00,  4.75it/s]\n"
          ]
        },
        {
          "output_type": "stream",
          "name": "stdout",
          "text": [
            "\n",
            "Test set: epoch: 7, Average loss: 0.0420, Accuracy: 9913/10000 (99.1%)\n",
            "\n"
          ]
        },
        {
          "output_type": "stream",
          "name": "stderr",
          "text": [
            "loss=0.026832357048988342 batch_id=468: 100%|██████████| 469/469 [01:38<00:00,  4.77it/s]\n"
          ]
        },
        {
          "output_type": "stream",
          "name": "stdout",
          "text": [
            "\n",
            "Test set: epoch: 8, Average loss: 0.0403, Accuracy: 9910/10000 (99.1%)\n",
            "\n"
          ]
        },
        {
          "output_type": "stream",
          "name": "stderr",
          "text": [
            "loss=0.0031834186520427465 batch_id=468: 100%|██████████| 469/469 [01:39<00:00,  4.73it/s]\n"
          ]
        },
        {
          "output_type": "stream",
          "name": "stdout",
          "text": [
            "\n",
            "Test set: epoch: 9, Average loss: 0.0356, Accuracy: 9919/10000 (99.2%)\n",
            "\n"
          ]
        },
        {
          "output_type": "stream",
          "name": "stderr",
          "text": [
            "loss=0.007024845574051142 batch_id=468: 100%|██████████| 469/469 [01:38<00:00,  4.75it/s]\n"
          ]
        },
        {
          "output_type": "stream",
          "name": "stdout",
          "text": [
            "\n",
            "Test set: epoch: 10, Average loss: 0.0314, Accuracy: 9930/10000 (99.3%)\n",
            "\n"
          ]
        },
        {
          "output_type": "stream",
          "name": "stderr",
          "text": [
            "loss=0.1524551510810852 batch_id=468: 100%|██████████| 469/469 [01:38<00:00,  4.75it/s]\n"
          ]
        },
        {
          "output_type": "stream",
          "name": "stdout",
          "text": [
            "\n",
            "Test set: epoch: 11, Average loss: 0.0332, Accuracy: 9928/10000 (99.3%)\n",
            "\n"
          ]
        },
        {
          "output_type": "stream",
          "name": "stderr",
          "text": [
            "loss=0.005301088094711304 batch_id=468: 100%|██████████| 469/469 [01:37<00:00,  4.79it/s]\n"
          ]
        },
        {
          "output_type": "stream",
          "name": "stdout",
          "text": [
            "\n",
            "Test set: epoch: 12, Average loss: 0.0289, Accuracy: 9940/10000 (99.4%)\n",
            "\n"
          ]
        },
        {
          "output_type": "stream",
          "name": "stderr",
          "text": [
            "loss=0.010571555234491825 batch_id=468: 100%|██████████| 469/469 [01:38<00:00,  4.74it/s]\n"
          ]
        },
        {
          "output_type": "stream",
          "name": "stdout",
          "text": [
            "\n",
            "Test set: epoch: 13, Average loss: 0.0302, Accuracy: 9937/10000 (99.4%)\n",
            "\n"
          ]
        }
      ]
    }
  ],
  "metadata": {
    "accelerator": "GPU",
    "colab": {
      "provenance": []
    },
    "gpuClass": "standard",
    "kernelspec": {
      "display_name": "Python 3",
      "name": "python3"
    }
  },
  "nbformat": 4,
  "nbformat_minor": 0
}